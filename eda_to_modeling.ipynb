{
  "nbformat": 4,
  "nbformat_minor": 0,
  "metadata": {
    "colab": {
      "provenance": [],
      "authorship_tag": "ABX9TyP2KyHaC0FmFNvEYV0qzmZ0",
      "include_colab_link": true
    },
    "kernelspec": {
      "name": "python3",
      "display_name": "Python 3"
    },
    "language_info": {
      "name": "python"
    }
  },
  "cells": [
    {
      "cell_type": "markdown",
      "metadata": {
        "id": "view-in-github",
        "colab_type": "text"
      },
      "source": [
        "<a href=\"https://colab.research.google.com/github/izik-adio/Predictive-Modelling-for-COVID-19/blob/main/eda_to_modeling.ipynb\" target=\"_parent\"><img src=\"https://colab.research.google.com/assets/colab-badge.svg\" alt=\"Open In Colab\"/></a>"
      ]
    },
    {
      "cell_type": "markdown",
      "source": [
        "## Introduction\n",
        "This notebook presents a data science capstone project focused on **predictive modeling for COVID-19** in public health. The goal is gaining actionable insights from historical COVID-19 data. Key tasks include:  \n",
        "\n",
        "1. **Data Preparation**: Cleaning, transforming, and engineering features from the CORD-19 dataset to ensure high-quality inputs for analysis.  \n",
        "2. **Exploratory Data Analysis (EDA)**: Identifying trends, correlations, and key factors influencing COVID-19 spread and severity through visualizations.  \n",
        "3. **Predictive Modeling**: Building and evaluating time-series and classification models to forecast trends and outcomes.  \n",
        "4. **Visualization & Reporting**: Delivering insights via clear visualizations and a structured report to support decision-making for public health policies and resource allocation.  \n",
        "\n",
        "This project is a comprehensive effort to leverage data science for improving public health responses during the COVID-19 pandemic."
      ],
      "metadata": {
        "id": "EZCyhGnOMXA5"
      }
    },
    {
      "cell_type": "markdown",
      "source": [
        "### The dataset used is gotten from [Kaggle](https://www.kaggle.com/datasets/imdevskp/corona-virus-report), below is a brief overview of what is contained in each csv file\n",
        "\n",
        "* full_grouped.csv - Day to day country wise no. of cases (Has County/State/Province level data)\n",
        "* covid_19_clean_complete.csv - Day to day country wise no. of cases (Doesn't have County/State/Province level data)\n",
        "* country_wise_latest.csv - Latest country level no. of cases\n",
        "* day_wise.csv - Day wise no. of cases (Doesn't have country level data)\n",
        "* usa_county_wise.csv - Day to day county level no. of cases\n",
        "* worldometer_data.csv - Latest data from https://www.worldometers.info/\n"
      ],
      "metadata": {
        "id": "-D_VsIisHXuN"
      }
    },
    {
      "cell_type": "code",
      "execution_count": 7,
      "metadata": {
        "id": "g2ONYUM7A6iT"
      },
      "outputs": [],
      "source": [
        "import pandas as pd"
      ]
    },
    {
      "cell_type": "code",
      "source": [
        "data_url = \"https://raw.githubusercontent.com/izik-adio/Predictive-Modelling-for-COVID-19/refs/heads/main/data/\"\n",
        "files = [\"country_wise_latest.csv\", \"covid_19_clean_complete.csv\", \"day_wise.csv\", \"full_grouped.csv\", \"usa_county_wise.csv\", \"worldometer_data.csv\"]\n",
        "\n",
        "country_wise_latest = pd.read_csv(data_url + files[0])\n",
        "covid_19_clean_complete = pd.read_csv(data_url + files[1])\n",
        "day_wise = pd.read_csv(data_url + files[2])\n",
        "full_grouped = pd.read_csv(data_url + files[3])\n",
        "usa_country_wise = pd.read_csv(data_url + files[4])\n",
        "worldometer_data = pd.read_csv(data_url + files[5])"
      ],
      "metadata": {
        "id": "2QHj3RbAC-5K"
      },
      "execution_count": 8,
      "outputs": []
    },
    {
      "cell_type": "markdown",
      "source": [
        "#Data Cleaning and preprocessing"
      ],
      "metadata": {
        "id": "93Cfao-DiIrP"
      }
    },
    {
      "cell_type": "code",
      "source": [
        "# Handle inconsistencies in column names:\n",
        "country_wise_latest = country_wise_latest.rename(columns={'Country/Region': 'Country_Region'})\n",
        "worldometer_data = worldometer_data.rename(columns={'Country/Region': 'Country_Region'})\n",
        "full_grouped = full_grouped.rename(columns={'Country/Region': 'Country_Region'})\n",
        "covid_19_clean_complete = covid_19_clean_complete.rename(columns={'Country/Region': 'Country_Region'})"
      ],
      "metadata": {
        "id": "zl1vLI_DNOUs"
      },
      "execution_count": 13,
      "outputs": []
    },
    {
      "cell_type": "code",
      "source": [
        "# Convert 'Date' column to datetime if needed.  Adjust format if necessary\n",
        "covid_19_clean_complete['Date'] = pd.to_datetime(covid_19_clean_complete['Date'])\n",
        "full_grouped['Date'] = pd.to_datetime(full_grouped['Date'])\n",
        "day_wise['Date'] = pd.to_datetime(day_wise['Date'])"
      ],
      "metadata": {
        "id": "ZivQVJREiRd-"
      },
      "execution_count": 14,
      "outputs": []
    },
    {
      "cell_type": "code",
      "source": [
        "# Merging the datasets\n",
        "# Prioritize covid_19_clean_complete, which has daily data\n",
        "\n",
        "merged_data = covid_19_clean_complete.copy()\n",
        "\n",
        "# Merge with full_grouped (adds additional daily metrics)\n",
        "merged_data = pd.merge(merged_data, full_grouped, on=['Country_Region', 'Date', 'Confirmed', 'Deaths', 'Recovered','Active','WHO Region'],how='left')\n",
        "\n",
        "#Merge with country_wise_latest (adds latest overall metrics)\n",
        "merged_data = pd.merge(merged_data, country_wise_latest, on=['Country_Region'], how='left', suffixes=('_daily','_latest'))\n",
        "\n",
        "#Merge with worldometer_data(population and other metrics)\n",
        "merged_data = pd.merge(merged_data, worldometer_data, on=['Country_Region'], how='left', suffixes=('_covid','_worldometer'))"
      ],
      "metadata": {
        "id": "SUrrjbccioVf"
      },
      "execution_count": 15,
      "outputs": []
    },
    {
      "cell_type": "code",
      "source": [
        "merged_data.duplicated().sum()"
      ],
      "metadata": {
        "id": "iSpxF3Cmj1br",
        "outputId": "f2e1b902-5123-48f2-c24c-6a9f832845e5",
        "colab": {
          "base_uri": "https://localhost:8080/"
        }
      },
      "execution_count": 16,
      "outputs": [
        {
          "output_type": "execute_result",
          "data": {
            "text/plain": [
              "0"
            ]
          },
          "metadata": {},
          "execution_count": 16
        }
      ]
    },
    {
      "cell_type": "code",
      "source": [
        "merged_data.info()"
      ],
      "metadata": {
        "id": "oAJBUAfjjRBZ",
        "outputId": "fbf43951-25f3-4ae6-c897-c7758c2a97ab",
        "colab": {
          "base_uri": "https://localhost:8080/"
        }
      },
      "execution_count": 18,
      "outputs": [
        {
          "output_type": "stream",
          "name": "stdout",
          "text": [
            "<class 'pandas.core.frame.DataFrame'>\n",
            "RangeIndex: 49068 entries, 0 to 49067\n",
            "Data columns (total 42 columns):\n",
            " #   Column                  Non-Null Count  Dtype         \n",
            "---  ------                  --------------  -----         \n",
            " 0   Province/State          14664 non-null  object        \n",
            " 1   Country_Region          49068 non-null  object        \n",
            " 2   Lat                     49068 non-null  float64       \n",
            " 3   Long                    49068 non-null  float64       \n",
            " 4   Date                    49068 non-null  datetime64[ns]\n",
            " 5   Confirmed_daily         49068 non-null  int64         \n",
            " 6   Deaths_daily            49068 non-null  int64         \n",
            " 7   Recovered_daily         49068 non-null  int64         \n",
            " 8   Active_daily            49068 non-null  int64         \n",
            " 9   WHO Region_daily        49068 non-null  object        \n",
            " 10  New cases_daily         34353 non-null  float64       \n",
            " 11  New deaths_daily        34353 non-null  float64       \n",
            " 12  New recovered_daily     34353 non-null  float64       \n",
            " 13  Confirmed_latest        49068 non-null  int64         \n",
            " 14  Deaths_latest           49068 non-null  int64         \n",
            " 15  Recovered_latest        49068 non-null  int64         \n",
            " 16  Active_latest           49068 non-null  int64         \n",
            " 17  New cases_latest        49068 non-null  int64         \n",
            " 18  New deaths_latest       49068 non-null  int64         \n",
            " 19  New recovered_latest    49068 non-null  int64         \n",
            " 20  Deaths / 100 Cases      49068 non-null  float64       \n",
            " 21  Recovered / 100 Cases   49068 non-null  float64       \n",
            " 22  Deaths / 100 Recovered  49068 non-null  float64       \n",
            " 23  Confirmed last week     49068 non-null  int64         \n",
            " 24  1 week change           49068 non-null  int64         \n",
            " 25  1 week % increase       49068 non-null  float64       \n",
            " 26  WHO Region_latest       49068 non-null  object        \n",
            " 27  Continent               38164 non-null  object        \n",
            " 28  Population              38164 non-null  float64       \n",
            " 29  TotalCases              38164 non-null  float64       \n",
            " 30  NewCases                564 non-null    float64       \n",
            " 31  TotalDeaths             35908 non-null  float64       \n",
            " 32  NewDeaths               376 non-null    float64       \n",
            " 33  TotalRecovered          37036 non-null  float64       \n",
            " 34  NewRecovered            376 non-null    float64       \n",
            " 35  ActiveCases             37036 non-null  float64       \n",
            " 36  Serious,Critical        26320 non-null  float64       \n",
            " 37  Tot Cases/1M pop        38164 non-null  float64       \n",
            " 38  Deaths/1M pop           35908 non-null  float64       \n",
            " 39  TotalTests              35532 non-null  float64       \n",
            " 40  Tests/1M pop            35532 non-null  float64       \n",
            " 41  WHO Region              38164 non-null  object        \n",
            "dtypes: datetime64[ns](1), float64(22), int64(13), object(6)\n",
            "memory usage: 15.7+ MB\n"
          ]
        }
      ]
    },
    {
      "cell_type": "code",
      "source": [
        "# drop all columns with too small Non-Null values\n",
        "merged_data.drop(columns=['NewCases', \"NewDeaths\", \"NewRecovered\"], inplace=True)"
      ],
      "metadata": {
        "id": "6uCVD37Hk28h"
      },
      "execution_count": 20,
      "outputs": []
    },
    {
      "cell_type": "code",
      "source": [
        "#Example:  Calculate case fatality rate\n",
        "merged_data['CFR'] = (merged_data['Deaths_latest'] / merged_data['Confirmed_latest']) * 100\n",
        "merged_data.info()"
      ],
      "metadata": {
        "colab": {
          "base_uri": "https://localhost:8080/"
        },
        "id": "J1RkUUGcj9kh",
        "outputId": "a9886ac1-f85d-48bd-fed7-d31dc38785cf"
      },
      "execution_count": 24,
      "outputs": [
        {
          "output_type": "stream",
          "name": "stdout",
          "text": [
            "<class 'pandas.core.frame.DataFrame'>\n",
            "RangeIndex: 49068 entries, 0 to 49067\n",
            "Data columns (total 40 columns):\n",
            " #   Column                  Non-Null Count  Dtype         \n",
            "---  ------                  --------------  -----         \n",
            " 0   Province/State          14664 non-null  object        \n",
            " 1   Country_Region          49068 non-null  object        \n",
            " 2   Lat                     49068 non-null  float64       \n",
            " 3   Long                    49068 non-null  float64       \n",
            " 4   Date                    49068 non-null  datetime64[ns]\n",
            " 5   Confirmed_daily         49068 non-null  int64         \n",
            " 6   Deaths_daily            49068 non-null  int64         \n",
            " 7   Recovered_daily         49068 non-null  int64         \n",
            " 8   Active_daily            49068 non-null  int64         \n",
            " 9   WHO Region_daily        49068 non-null  object        \n",
            " 10  New cases_daily         34353 non-null  float64       \n",
            " 11  New deaths_daily        34353 non-null  float64       \n",
            " 12  New recovered_daily     34353 non-null  float64       \n",
            " 13  Confirmed_latest        49068 non-null  int64         \n",
            " 14  Deaths_latest           49068 non-null  int64         \n",
            " 15  Recovered_latest        49068 non-null  int64         \n",
            " 16  Active_latest           49068 non-null  int64         \n",
            " 17  New cases_latest        49068 non-null  int64         \n",
            " 18  New deaths_latest       49068 non-null  int64         \n",
            " 19  New recovered_latest    49068 non-null  int64         \n",
            " 20  Deaths / 100 Cases      49068 non-null  float64       \n",
            " 21  Recovered / 100 Cases   49068 non-null  float64       \n",
            " 22  Deaths / 100 Recovered  49068 non-null  float64       \n",
            " 23  Confirmed last week     49068 non-null  int64         \n",
            " 24  1 week change           49068 non-null  int64         \n",
            " 25  1 week % increase       49068 non-null  float64       \n",
            " 26  WHO Region_latest       49068 non-null  object        \n",
            " 27  Continent               38164 non-null  object        \n",
            " 28  Population              38164 non-null  float64       \n",
            " 29  TotalCases              38164 non-null  float64       \n",
            " 30  TotalDeaths             35908 non-null  float64       \n",
            " 31  TotalRecovered          37036 non-null  float64       \n",
            " 32  ActiveCases             37036 non-null  float64       \n",
            " 33  Serious,Critical        26320 non-null  float64       \n",
            " 34  Tot Cases/1M pop        38164 non-null  float64       \n",
            " 35  Deaths/1M pop           35908 non-null  float64       \n",
            " 36  TotalTests              35532 non-null  float64       \n",
            " 37  Tests/1M pop            35532 non-null  float64       \n",
            " 38  WHO Region              38164 non-null  object        \n",
            " 39  CFR                     49068 non-null  float64       \n",
            "dtypes: datetime64[ns](1), float64(20), int64(13), object(6)\n",
            "memory usage: 15.0+ MB\n"
          ]
        }
      ]
    },
    {
      "cell_type": "code",
      "source": [
        "merged_data[[ 'WHO Region_daily','WHO Region_latest', 'WHO Region']].head()"
      ],
      "metadata": {
        "id": "NawCYUZiqeU7",
        "outputId": "cf021d28-6700-4ea0-a86f-facf584d3ba4",
        "colab": {
          "base_uri": "https://localhost:8080/",
          "height": 206
        }
      },
      "execution_count": 25,
      "outputs": [
        {
          "output_type": "execute_result",
          "data": {
            "text/plain": [
              "        WHO Region_daily      WHO Region_latest            WHO Region\n",
              "0  Eastern Mediterranean  Eastern Mediterranean  EasternMediterranean\n",
              "1                 Europe                 Europe                Europe\n",
              "2                 Africa                 Africa                Africa\n",
              "3                 Europe                 Europe                Europe\n",
              "4                 Africa                 Africa                Africa"
            ],
            "text/html": [
              "\n",
              "  <div id=\"df-c5528a87-c893-4a65-ad12-7c5f8ae38c44\" class=\"colab-df-container\">\n",
              "    <div>\n",
              "<style scoped>\n",
              "    .dataframe tbody tr th:only-of-type {\n",
              "        vertical-align: middle;\n",
              "    }\n",
              "\n",
              "    .dataframe tbody tr th {\n",
              "        vertical-align: top;\n",
              "    }\n",
              "\n",
              "    .dataframe thead th {\n",
              "        text-align: right;\n",
              "    }\n",
              "</style>\n",
              "<table border=\"1\" class=\"dataframe\">\n",
              "  <thead>\n",
              "    <tr style=\"text-align: right;\">\n",
              "      <th></th>\n",
              "      <th>WHO Region_daily</th>\n",
              "      <th>WHO Region_latest</th>\n",
              "      <th>WHO Region</th>\n",
              "    </tr>\n",
              "  </thead>\n",
              "  <tbody>\n",
              "    <tr>\n",
              "      <th>0</th>\n",
              "      <td>Eastern Mediterranean</td>\n",
              "      <td>Eastern Mediterranean</td>\n",
              "      <td>EasternMediterranean</td>\n",
              "    </tr>\n",
              "    <tr>\n",
              "      <th>1</th>\n",
              "      <td>Europe</td>\n",
              "      <td>Europe</td>\n",
              "      <td>Europe</td>\n",
              "    </tr>\n",
              "    <tr>\n",
              "      <th>2</th>\n",
              "      <td>Africa</td>\n",
              "      <td>Africa</td>\n",
              "      <td>Africa</td>\n",
              "    </tr>\n",
              "    <tr>\n",
              "      <th>3</th>\n",
              "      <td>Europe</td>\n",
              "      <td>Europe</td>\n",
              "      <td>Europe</td>\n",
              "    </tr>\n",
              "    <tr>\n",
              "      <th>4</th>\n",
              "      <td>Africa</td>\n",
              "      <td>Africa</td>\n",
              "      <td>Africa</td>\n",
              "    </tr>\n",
              "  </tbody>\n",
              "</table>\n",
              "</div>\n",
              "    <div class=\"colab-df-buttons\">\n",
              "\n",
              "  <div class=\"colab-df-container\">\n",
              "    <button class=\"colab-df-convert\" onclick=\"convertToInteractive('df-c5528a87-c893-4a65-ad12-7c5f8ae38c44')\"\n",
              "            title=\"Convert this dataframe to an interactive table.\"\n",
              "            style=\"display:none;\">\n",
              "\n",
              "  <svg xmlns=\"http://www.w3.org/2000/svg\" height=\"24px\" viewBox=\"0 -960 960 960\">\n",
              "    <path d=\"M120-120v-720h720v720H120Zm60-500h600v-160H180v160Zm220 220h160v-160H400v160Zm0 220h160v-160H400v160ZM180-400h160v-160H180v160Zm440 0h160v-160H620v160ZM180-180h160v-160H180v160Zm440 0h160v-160H620v160Z\"/>\n",
              "  </svg>\n",
              "    </button>\n",
              "\n",
              "  <style>\n",
              "    .colab-df-container {\n",
              "      display:flex;\n",
              "      gap: 12px;\n",
              "    }\n",
              "\n",
              "    .colab-df-convert {\n",
              "      background-color: #E8F0FE;\n",
              "      border: none;\n",
              "      border-radius: 50%;\n",
              "      cursor: pointer;\n",
              "      display: none;\n",
              "      fill: #1967D2;\n",
              "      height: 32px;\n",
              "      padding: 0 0 0 0;\n",
              "      width: 32px;\n",
              "    }\n",
              "\n",
              "    .colab-df-convert:hover {\n",
              "      background-color: #E2EBFA;\n",
              "      box-shadow: 0px 1px 2px rgba(60, 64, 67, 0.3), 0px 1px 3px 1px rgba(60, 64, 67, 0.15);\n",
              "      fill: #174EA6;\n",
              "    }\n",
              "\n",
              "    .colab-df-buttons div {\n",
              "      margin-bottom: 4px;\n",
              "    }\n",
              "\n",
              "    [theme=dark] .colab-df-convert {\n",
              "      background-color: #3B4455;\n",
              "      fill: #D2E3FC;\n",
              "    }\n",
              "\n",
              "    [theme=dark] .colab-df-convert:hover {\n",
              "      background-color: #434B5C;\n",
              "      box-shadow: 0px 1px 3px 1px rgba(0, 0, 0, 0.15);\n",
              "      filter: drop-shadow(0px 1px 2px rgba(0, 0, 0, 0.3));\n",
              "      fill: #FFFFFF;\n",
              "    }\n",
              "  </style>\n",
              "\n",
              "    <script>\n",
              "      const buttonEl =\n",
              "        document.querySelector('#df-c5528a87-c893-4a65-ad12-7c5f8ae38c44 button.colab-df-convert');\n",
              "      buttonEl.style.display =\n",
              "        google.colab.kernel.accessAllowed ? 'block' : 'none';\n",
              "\n",
              "      async function convertToInteractive(key) {\n",
              "        const element = document.querySelector('#df-c5528a87-c893-4a65-ad12-7c5f8ae38c44');\n",
              "        const dataTable =\n",
              "          await google.colab.kernel.invokeFunction('convertToInteractive',\n",
              "                                                    [key], {});\n",
              "        if (!dataTable) return;\n",
              "\n",
              "        const docLinkHtml = 'Like what you see? Visit the ' +\n",
              "          '<a target=\"_blank\" href=https://colab.research.google.com/notebooks/data_table.ipynb>data table notebook</a>'\n",
              "          + ' to learn more about interactive tables.';\n",
              "        element.innerHTML = '';\n",
              "        dataTable['output_type'] = 'display_data';\n",
              "        await google.colab.output.renderOutput(dataTable, element);\n",
              "        const docLink = document.createElement('div');\n",
              "        docLink.innerHTML = docLinkHtml;\n",
              "        element.appendChild(docLink);\n",
              "      }\n",
              "    </script>\n",
              "  </div>\n",
              "\n",
              "\n",
              "<div id=\"df-d1257df9-2caa-4956-a62f-9fe171d45f1c\">\n",
              "  <button class=\"colab-df-quickchart\" onclick=\"quickchart('df-d1257df9-2caa-4956-a62f-9fe171d45f1c')\"\n",
              "            title=\"Suggest charts\"\n",
              "            style=\"display:none;\">\n",
              "\n",
              "<svg xmlns=\"http://www.w3.org/2000/svg\" height=\"24px\"viewBox=\"0 0 24 24\"\n",
              "     width=\"24px\">\n",
              "    <g>\n",
              "        <path d=\"M19 3H5c-1.1 0-2 .9-2 2v14c0 1.1.9 2 2 2h14c1.1 0 2-.9 2-2V5c0-1.1-.9-2-2-2zM9 17H7v-7h2v7zm4 0h-2V7h2v10zm4 0h-2v-4h2v4z\"/>\n",
              "    </g>\n",
              "</svg>\n",
              "  </button>\n",
              "\n",
              "<style>\n",
              "  .colab-df-quickchart {\n",
              "      --bg-color: #E8F0FE;\n",
              "      --fill-color: #1967D2;\n",
              "      --hover-bg-color: #E2EBFA;\n",
              "      --hover-fill-color: #174EA6;\n",
              "      --disabled-fill-color: #AAA;\n",
              "      --disabled-bg-color: #DDD;\n",
              "  }\n",
              "\n",
              "  [theme=dark] .colab-df-quickchart {\n",
              "      --bg-color: #3B4455;\n",
              "      --fill-color: #D2E3FC;\n",
              "      --hover-bg-color: #434B5C;\n",
              "      --hover-fill-color: #FFFFFF;\n",
              "      --disabled-bg-color: #3B4455;\n",
              "      --disabled-fill-color: #666;\n",
              "  }\n",
              "\n",
              "  .colab-df-quickchart {\n",
              "    background-color: var(--bg-color);\n",
              "    border: none;\n",
              "    border-radius: 50%;\n",
              "    cursor: pointer;\n",
              "    display: none;\n",
              "    fill: var(--fill-color);\n",
              "    height: 32px;\n",
              "    padding: 0;\n",
              "    width: 32px;\n",
              "  }\n",
              "\n",
              "  .colab-df-quickchart:hover {\n",
              "    background-color: var(--hover-bg-color);\n",
              "    box-shadow: 0 1px 2px rgba(60, 64, 67, 0.3), 0 1px 3px 1px rgba(60, 64, 67, 0.15);\n",
              "    fill: var(--button-hover-fill-color);\n",
              "  }\n",
              "\n",
              "  .colab-df-quickchart-complete:disabled,\n",
              "  .colab-df-quickchart-complete:disabled:hover {\n",
              "    background-color: var(--disabled-bg-color);\n",
              "    fill: var(--disabled-fill-color);\n",
              "    box-shadow: none;\n",
              "  }\n",
              "\n",
              "  .colab-df-spinner {\n",
              "    border: 2px solid var(--fill-color);\n",
              "    border-color: transparent;\n",
              "    border-bottom-color: var(--fill-color);\n",
              "    animation:\n",
              "      spin 1s steps(1) infinite;\n",
              "  }\n",
              "\n",
              "  @keyframes spin {\n",
              "    0% {\n",
              "      border-color: transparent;\n",
              "      border-bottom-color: var(--fill-color);\n",
              "      border-left-color: var(--fill-color);\n",
              "    }\n",
              "    20% {\n",
              "      border-color: transparent;\n",
              "      border-left-color: var(--fill-color);\n",
              "      border-top-color: var(--fill-color);\n",
              "    }\n",
              "    30% {\n",
              "      border-color: transparent;\n",
              "      border-left-color: var(--fill-color);\n",
              "      border-top-color: var(--fill-color);\n",
              "      border-right-color: var(--fill-color);\n",
              "    }\n",
              "    40% {\n",
              "      border-color: transparent;\n",
              "      border-right-color: var(--fill-color);\n",
              "      border-top-color: var(--fill-color);\n",
              "    }\n",
              "    60% {\n",
              "      border-color: transparent;\n",
              "      border-right-color: var(--fill-color);\n",
              "    }\n",
              "    80% {\n",
              "      border-color: transparent;\n",
              "      border-right-color: var(--fill-color);\n",
              "      border-bottom-color: var(--fill-color);\n",
              "    }\n",
              "    90% {\n",
              "      border-color: transparent;\n",
              "      border-bottom-color: var(--fill-color);\n",
              "    }\n",
              "  }\n",
              "</style>\n",
              "\n",
              "  <script>\n",
              "    async function quickchart(key) {\n",
              "      const quickchartButtonEl =\n",
              "        document.querySelector('#' + key + ' button');\n",
              "      quickchartButtonEl.disabled = true;  // To prevent multiple clicks.\n",
              "      quickchartButtonEl.classList.add('colab-df-spinner');\n",
              "      try {\n",
              "        const charts = await google.colab.kernel.invokeFunction(\n",
              "            'suggestCharts', [key], {});\n",
              "      } catch (error) {\n",
              "        console.error('Error during call to suggestCharts:', error);\n",
              "      }\n",
              "      quickchartButtonEl.classList.remove('colab-df-spinner');\n",
              "      quickchartButtonEl.classList.add('colab-df-quickchart-complete');\n",
              "    }\n",
              "    (() => {\n",
              "      let quickchartButtonEl =\n",
              "        document.querySelector('#df-d1257df9-2caa-4956-a62f-9fe171d45f1c button');\n",
              "      quickchartButtonEl.style.display =\n",
              "        google.colab.kernel.accessAllowed ? 'block' : 'none';\n",
              "    })();\n",
              "  </script>\n",
              "</div>\n",
              "\n",
              "    </div>\n",
              "  </div>\n"
            ],
            "application/vnd.google.colaboratory.intrinsic+json": {
              "type": "dataframe",
              "summary": "{\n  \"name\": \"merged_data[[ 'WHO Region_daily','WHO Region_latest', 'WHO Region']]\",\n  \"rows\": 5,\n  \"fields\": [\n    {\n      \"column\": \"WHO Region_daily\",\n      \"properties\": {\n        \"dtype\": \"string\",\n        \"num_unique_values\": 3,\n        \"samples\": [\n          \"Eastern Mediterranean\",\n          \"Europe\",\n          \"Africa\"\n        ],\n        \"semantic_type\": \"\",\n        \"description\": \"\"\n      }\n    },\n    {\n      \"column\": \"WHO Region_latest\",\n      \"properties\": {\n        \"dtype\": \"string\",\n        \"num_unique_values\": 3,\n        \"samples\": [\n          \"Eastern Mediterranean\",\n          \"Europe\",\n          \"Africa\"\n        ],\n        \"semantic_type\": \"\",\n        \"description\": \"\"\n      }\n    },\n    {\n      \"column\": \"WHO Region\",\n      \"properties\": {\n        \"dtype\": \"string\",\n        \"num_unique_values\": 3,\n        \"samples\": [\n          \"EasternMediterranean\",\n          \"Europe\",\n          \"Africa\"\n        ],\n        \"semantic_type\": \"\",\n        \"description\": \"\"\n      }\n    }\n  ]\n}"
            }
          },
          "metadata": {},
          "execution_count": 25
        }
      ]
    },
    {
      "cell_type": "code",
      "source": [
        "#Assuming 'merged_data' is your DataFrame\n",
        "\n",
        "columns_to_drop = ['Province/State', 'Lat', 'Long', 'WHO Region_latest', 'WHO Region','New cases_daily', 'New deaths_daily', 'New recovered_daily', 'Confirmed_daily', 'Deaths_daily', 'Recovered_daily','Active_daily','Continent','Population','TotalCases','TotalDeaths','TotalRecovered','ActiveCases','Serious,Critical','Tot Cases/1M pop','Deaths/1M pop','TotalTests','Tests/1M pop'] #Add or remove as needed\n",
        "\n",
        "\n",
        "merged_data_reduced = merged_data.drop(columns=columns_to_drop, errors='ignore') #errors='ignore' handles cases where columns don't exist\n",
        "\n",
        "\n",
        "print(merged_data_reduced.info())"
      ],
      "metadata": {
        "id": "ZwB5kGi7qbj0"
      },
      "execution_count": null,
      "outputs": []
    },
    {
      "cell_type": "code",
      "source": [
        "#Save the merged dataframe.\n",
        "merged_data.to_csv('merged_covid_data.csv', index=False)"
      ],
      "metadata": {
        "id": "ihaqfM1xpJoj"
      },
      "execution_count": null,
      "outputs": []
    }
  ]
}